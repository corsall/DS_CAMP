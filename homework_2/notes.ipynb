{
 "cells": [
  {
   "cell_type": "markdown",
   "metadata": {},
   "source": [
    "# Home task: pandas"
   ]
  },
  {
   "cell_type": "code",
   "execution_count": 3,
   "metadata": {},
   "outputs": [
    {
     "name": "stdout",
     "output_type": "stream",
     "text": [
      "                    Rank  Documents  Citable documents  Citations  Self-citations  Citations per document  H index   Energy Supply  Energy Supply per Capita  % Renewable              2006              2007              2008              2009              2010              2011              2012              2013              2014              2015\n",
      "Country                                                                                                                                                                                                                                                                                                                                                      \n",
      "China                  1     360468             358777    3947871         2705774                   10.95      308 127191000000.00                     93.00        19.75  2752118542130.40  3550327569655.47  4594336785737.67  5101691085625.95  6087191720866.69  7551545321799.88  8532185615746.62  9570470577244.86 10475624783235.60 11061573199439.70\n",
      "United States          2     199442             195042    3068926          881789                   15.39      422  90838000000.00                    286.00        11.57 13815586948000.00 14474226905000.00 14769857911000.00 14478064934000.00 15048964444000.00 15599728123000.00 16253972230000.00 16843190993000.00 17550680174000.00 18206020741000.00\n",
      "India                  3      76103              74167     760964          280893                   10.00      217  33195000000.00                     26.00        14.97   940259888792.14  1216736448906.29  1198895147694.77  1341888016988.57  1675615502766.20  1823051829894.55  1827637579584.79  1856721494834.64  2039126469963.35  2103588347241.77\n",
      "Japan                  4      56249              55680     633294          136132                   11.26      217  18984000000.00                    149.00        10.23  4601662661030.07  4579749785984.82  5106679413137.57  5289493734900.39  5759071769013.11  6233147172341.35  6272362996105.03  5212328181166.18  4896994405353.29  4444930651964.18\n",
      "United Kingdom         5      52572              51156     909276          151672                   17.30      267   7920000000.00                    124.00        10.60  2709978165671.04  3092996468387.23  2931683721186.75  2417565709974.49  2491397494467.95  2666403005061.42  2706340967030.68  2786315215249.95  3065223279583.79  2934857946213.47\n",
      "Germany                6      47781              46767     641717          133693                   13.43      230  13261000000.00                    165.00        17.90  2994703642023.53  3425578382921.58  3745264093617.19  3411261212652.34  3399667820000.09  3749314991050.62  3527143188785.16  3733804649549.06  3889093051023.45  3357585719351.56\n",
      "Russian Federation     7      43567              43290     175721           79765                    4.03      103  30709000000.00                    214.00        17.29   989932059220.67  1299703459799.96  1660848058303.11  1222645887209.32  1524916698232.71  2045922727569.78  2208293528673.97  2292470104248.18  2059241582146.11  1363482179761.17\n",
      "Canada                 8      39036              38276     787010          125333                   20.16      263  10431000000.00                    296.00        61.95  1319264809590.97  1468820407783.26  1552989690721.65  1374625142157.29  1617343367486.26  1793326630174.52  1828366481521.60  1846597421834.98  1805749878439.94  1556508816217.14\n",
      "Italy                  9      35991              34424     529459          123042                   14.71      192   6530000000.00                    109.00        33.67  1949551719389.64  2213102482751.46  2408655348718.59  2199928804118.63  2136099955236.72  2294994296589.51  2086957656821.60  2141924094298.57  2162009615996.51  1836637711060.55\n",
      "South Korea           10      35294              35005     503147           87529                   14.26      182  11007000000.00                    221.00         2.28  1053216892422.02  1172614134912.05  1047339041903.85   943941876218.74  1144066965324.49  1253223044718.99  1278427634342.59  1370795199976.18  1484318219633.63  1465773245547.15\n",
      "Iran                  11      29776              29448     511199          150489                   17.17      179   9172000000.00                    119.00         5.71   266298911661.14   349881601458.56   412336172446.85   416397025729.36   486807616896.70   626133112211.11   644035512198.99   492775566435.18   460382791488.63   408212917871.72\n",
      "France                12      29351              28759     471469           79375                   16.06      205  10597000000.00                    166.00        17.02  2320536221304.70  2660591246211.77  2930303780828.12  2700887366932.03  2645187882116.73  2865157541994.19  2683671716967.19  2811876903329.05  2855964488590.14  2439188643162.50\n",
      "Spain                 13      27880              27272     515485           88803                   18.49      202   4923000000.00                    106.00        37.97  1260398977831.76  1474002579820.00  1631863493552.34  1491472923706.64  1422108199783.37  1480710495710.13  1324750738725.00  1355579535912.56  1371820537888.60  1196156971279.69\n",
      "Australia             14      25906              25237     495278           72475                   19.12      212   5386000000.00                    231.00        11.81   747907432136.60   854427259166.21  1055686110665.53   928629769751.88  1148569537284.62  1398456161407.85  1546952690139.99  1576329690003.93  1467589901175.46  1350580336316.75\n",
      "Brazil                15      25887              25493     260540           60487                   10.06      145  12149000000.00                     59.00        69.65  1107626711436.44  1397114247287.58  1695855391816.48  1666996294324.76  2208838108593.19  2616156606734.51  2465228293862.62  2472819362259.00  2456043766063.50  1802211999555.59\n"
     ]
    }
   ],
   "source": [
    "import pandas as pd\n",
    "import numpy as np\n",
    "\n",
    "pd.set_option('display.width', 1000)\n",
    "pd.set_option('display.max_columns', None)\n",
    "#Можна це закоментувати і отримати числа в науковому форматі\n",
    "pd.set_option('display.float_format', '{:.2f}'.format)\n",
    "\n",
    "#Зчитую данні про енергетику країн пропускаючи непотрібну інформацію.\n",
    "energy = pd.read_excel('Energy Indicators.xls',skiprows=17, usecols='C:F', nrows=227, names=['Country', 'Energy Supply', 'Energy Supply per Capita', '% Renewable'])\n",
    "\n",
    "#Забираю ... , заміняю на Nan\n",
    "energy.replace(\"...\", np.nan, inplace=True)\n",
    "\n",
    "#Перетворюю петаджоулі в гігаджоулі\n",
    "energy['Energy Supply'] = energy['Energy Supply'] * 1000000\n",
    "\n",
    "#Перейменовую деякі країни\n",
    "energy['Country'].replace(\n",
    "    ['Republic of Korea',\n",
    "     'United States of America20',\n",
    "     'United Kingdom of Great Britain and Northern Ireland19',\n",
    "     'China, Hong Kong Special Administrative Region3'], \n",
    "     \n",
    "    ['South Korea',\n",
    "     'United States',\n",
    "     'United Kingdom',\n",
    "     'Hong Kong'], \n",
    "     inplace=True)\n",
    "\n",
    "#Прибираю в країнах числа\n",
    "energy['Country'] = energy['Country'].str.replace(r'\\d+', '', regex=True)\n",
    "#Прибираю в країнах дужки\n",
    "energy['Country'] = energy['Country'].str.replace(r'\\s\\(.+', '', regex=True)\n",
    "\n",
    "#Зчитую ВВП країн\n",
    "GDP = pd.read_csv('API_NY.GDP.MKTP.CD_DS2_en_csv_v2_5871885.csv')\n",
    "\n",
    "#Перейменовую деякі країни\n",
    "GDP['Country Name'].replace(\n",
    "    ['Korea, Rep.',\n",
    "     'Iran, Islamic Rep.',\n",
    "     'Hong Kong SAR, China'], \n",
    "     \n",
    "    ['South Korea',\n",
    "     'Iran',\n",
    "     'Hong Kong'], \n",
    "     inplace=True)\n",
    "\n",
    "#Залишаю лише проміжок часу між 2006 - 2015\n",
    "GDP = GDP[['Country Name'] + [str(year) for year in range(2006, 2016)]]\n",
    "\n",
    "#Зчитую внески в документацію від кожної країни\n",
    "ScimEn = pd.read_excel('scimagojr country rank 1996-2022.xlsx')\n",
    "\n",
    "#Залишаю, лише топ 15 Rank\n",
    "ScimEn = ScimEn[ScimEn['Rank'] <= 15]\n",
    "\n",
    "#Забираю колонку Region\n",
    "ScimEn.drop('Region', axis=1, inplace=True)\n",
    "\n",
    "\n",
    "def answer_one():\n",
    "    #Робимо merge по колонці Country\n",
    "    first_merge = pd.merge(ScimEn, energy, how='inner', on='Country')\n",
    "    \n",
    "    #Робимо фінальний merge по колонці Country з колнкою Country Name\n",
    "    df = pd.merge(first_merge, GDP, how='inner', left_on='Country', right_on='Country Name')\n",
    "\n",
    "    #Забираємо лишню колонку Country Name\n",
    "    df.drop('Country Name', axis=1, inplace=True)\n",
    "\n",
    "    #Робимо колонку Country індексною\n",
    "    df.set_index('Country', inplace=True)\n",
    "\n",
    "    return df\n",
    "\n",
    "print(answer_one())"
   ]
  },
  {
   "cell_type": "markdown",
   "metadata": {},
   "source": [
    "# Question 2\n",
    "What is the average GDP over the last 10 years for each country? (exclude missing values from this calculation.)\n",
    "\n",
    "*This function should return a Series named avgGDP with 15 countries and their average GDP sorted in descending order.*"
   ]
  },
  {
   "cell_type": "code",
   "execution_count": 21,
   "metadata": {},
   "outputs": [
    {
     "name": "stdout",
     "output_type": "stream",
     "text": [
      "Country\n",
      "United States        15704029340300.00\n",
      "China                 6927706520148.28\n",
      "Japan                 5239642077099.60\n",
      "Germany               3523341675097.46\n",
      "United Kingdom        2780276197282.68\n",
      "France                2691336579143.64\n",
      "Italy                 2142986168498.18\n",
      "Brazil                1988889078193.37\n",
      "Russian Federation    1666745628516.50\n",
      "Canada                1616359264592.76\n",
      "India                 1602352072666.71\n",
      "Spain                 1400886445421.01\n",
      "South Korea           1221371625499.97\n",
      "Australia             1207512888804.88\n",
      "Iran                   456326122839.82\n",
      "dtype: float64\n"
     ]
    }
   ],
   "source": [
    "def answer_two():\n",
    "    Top15 = answer_one()\n",
    "    avgGDP = Top15.loc[:,'2006':'2015'].mean(axis=1)\n",
    "    avgGDP = avgGDP.sort_values(ascending=False)\n",
    "    return avgGDP\n",
    "\n",
    "print(answer_two())"
   ]
  },
  {
   "cell_type": "markdown",
   "metadata": {},
   "source": [
    "# Question 3\n",
    "By how much had the GDP changed over the 10 year span for the country with the 6th largest average GDP?\n",
    "\n",
    "*This function should return a single number.*"
   ]
  },
  {
   "cell_type": "code",
   "execution_count": 22,
   "metadata": {},
   "outputs": [
    {
     "name": "stdout",
     "output_type": "stream",
     "text": [
      "118652421857.7998\n"
     ]
    }
   ],
   "source": [
    "def answer_three():\n",
    "    Top15 = answer_one()\n",
    "    startGDP = Top15.loc['France','2006']\n",
    "    currentGDP = Top15.loc['France','2015']\n",
    "    return currentGDP - startGDP\n",
    "print(answer_three())"
   ]
  },
  {
   "cell_type": "markdown",
   "metadata": {},
   "source": [
    "# Question 4\n",
    "Create a new column that is the ratio of Self-Citations to Total Citations. What is the maximum value for this new column, and what country has the highest ratio?\n",
    "\n",
    "*This function should return a tuple with the name of the country and the ratio.*"
   ]
  },
  {
   "cell_type": "code",
   "execution_count": 24,
   "metadata": {},
   "outputs": [
    {
     "name": "stdout",
     "output_type": "stream",
     "text": [
      "('China', 0.6853754846599598)\n"
     ]
    }
   ],
   "source": [
    "def answer_four():\n",
    "    Top15 = answer_one()\n",
    "    Top15['ratio'] = Top15['Self-citations'] / Top15['Citations']\n",
    "\n",
    "    max_ratio_country = Top15['ratio'].idxmax()\n",
    "    max_ratio_value = Top15['ratio'].max()\n",
    "    \n",
    "\n",
    "    return (max_ratio_country, max_ratio_value)\n",
    "print(answer_four())"
   ]
  },
  {
   "cell_type": "markdown",
   "metadata": {},
   "source": [
    "# Question 5\n",
    "Create a column that estimates the population using Energy Supply and Energy Supply per capita. What is the third most populous country according to this estimate?\n",
    "\n",
    "*This function should return a single string value.*"
   ]
  },
  {
   "cell_type": "code",
   "execution_count": 34,
   "metadata": {},
   "outputs": [
    {
     "name": "stdout",
     "output_type": "stream",
     "text": [
      "United States\n"
     ]
    }
   ],
   "source": [
    "def answer_five():\n",
    "    Top15 = answer_one()\n",
    "    Top15['population'] = Top15['Energy Supply'] / Top15['Energy Supply per Capita']\n",
    "    return Top15['population'].sort_values(ascending=False).index[2]\n",
    "print(answer_five())"
   ]
  },
  {
   "cell_type": "markdown",
   "metadata": {},
   "source": [
    "# Question 6\n",
    "Create a column that estimates the number of citable documents per person. What is the correlation between the number of citable documents per capita and the energy supply per capita? Use the .corr() method, (Pearson's correlation).\n",
    "\n",
    "*This function should return a single number.*"
   ]
  },
  {
   "cell_type": "code",
   "execution_count": 37,
   "metadata": {},
   "outputs": [
    {
     "name": "stdout",
     "output_type": "stream",
     "text": [
      "0.7114342527331208\n"
     ]
    }
   ],
   "source": [
    "def answer_six():\n",
    "    Top15 = answer_one()\n",
    "    Top15['population'] = Top15['Energy Supply'] / Top15['Energy Supply per Capita']\n",
    "    Top15['Citable documents per person'] = Top15['Citable documents'] / Top15['population']\n",
    "    correlation = Top15['Citable documents per person'].corr(Top15['Energy Supply per Capita'])\n",
    "\n",
    "    return correlation\n",
    "print(answer_six())"
   ]
  },
  {
   "cell_type": "markdown",
   "metadata": {},
   "source": [
    "# Question 7\n",
    "Use the following dictionary to group the Countries by Continent, then create a dateframe that displays the sample size (the number of countries in each continent bin), and the sum, mean, and std deviation for the estimated population of each country.\n",
    "\n",
    "*This function should return a DataFrame with index named Continent ['Asia', 'Australia', 'Europe', 'North America', 'South America'] and columns ['size', 'sum', 'mean', 'std']*"
   ]
  },
  {
   "cell_type": "code",
   "execution_count": 12,
   "metadata": {},
   "outputs": [
    {
     "name": "stdout",
     "output_type": "stream",
     "text": [
      "               size           sum         mean          std\n",
      "Continent                                                  \n",
      "Asia              5 2898666386.61 579733277.32 679097888.37\n",
      "Australia         1   23316017.32  23316017.32          NaN\n",
      "Europe            6  457929667.22  76321611.20  34647667.07\n",
      "North America     2  352855249.48 176427624.74 199669644.86\n",
      "South America     1  205915254.24 205915254.24          NaN\n"
     ]
    }
   ],
   "source": [
    "ContinentDict  = {'China':'Asia', \n",
    "                  'United States':'North America', \n",
    "                  'Japan':'Asia', \n",
    "                  'United Kingdom':'Europe', \n",
    "                  'Russian Federation':'Europe', \n",
    "                  'Canada':'North America', \n",
    "                  'Germany':'Europe', \n",
    "                  'India':'Asia',\n",
    "                  'France':'Europe', \n",
    "                  'South Korea':'Asia', \n",
    "                  'Italy':'Europe', \n",
    "                  'Spain':'Europe', \n",
    "                  'Iran':'Asia',\n",
    "                  'Australia':'Australia', \n",
    "                  'Brazil':'South America'}\n",
    "\n",
    "def answer_seven():\n",
    "    Top15 = answer_one()\n",
    "\n",
    "    Top15['population'] = Top15['Energy Supply'] / Top15['Energy Supply per Capita']\n",
    "\n",
    "    Top15['Continent'] = Top15.index.to_series().map(ContinentDict)\n",
    "\n",
    "    result = Top15.groupby('Continent')['population'].agg(['size', 'sum', 'mean', 'std'])\n",
    "    return result\n",
    "\n",
    "print(answer_seven())"
   ]
  }
 ],
 "metadata": {
  "kernelspec": {
   "display_name": "base",
   "language": "python",
   "name": "python3"
  },
  "language_info": {
   "codemirror_mode": {
    "name": "ipython",
    "version": 3
   },
   "file_extension": ".py",
   "mimetype": "text/x-python",
   "name": "python",
   "nbconvert_exporter": "python",
   "pygments_lexer": "ipython3",
   "version": "3.11.5"
  }
 },
 "nbformat": 4,
 "nbformat_minor": 2
}
