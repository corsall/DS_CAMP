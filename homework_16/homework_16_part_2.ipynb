{
 "cells": [
  {
   "cell_type": "code",
   "execution_count": 9,
   "metadata": {},
   "outputs": [
    {
     "data": {
      "text/plain": [
       "[RelationRecord(items=frozenset({'frankfurter', 'bottled water', 'soda', 'brown bread'}), support=0.00513083632632119, ordered_statistics=[OrderedStatistic(items_base=frozenset({'frankfurter', 'brown bread'}), items_add=frozenset({'bottled water', 'soda'}), confidence=0.22988505747126436, lift=3.017144626340029)]),\n",
       " RelationRecord(items=frozenset({'bottled water', 'whole milk', 'chicken', 'butter'}), support=0.00513083632632119, ordered_statistics=[OrderedStatistic(items_base=frozenset({'bottled water', 'chicken'}), items_add=frozenset({'whole milk', 'butter'}), confidence=0.20618556701030927, lift=3.115160233357308)]),\n",
       " RelationRecord(items=frozenset({'brown bread', 'canned beer', 'whole milk', 'curd'}), support=0.00538737814263725, ordered_statistics=[OrderedStatistic(items_base=frozenset({'brown bread', 'curd'}), items_add=frozenset({'canned beer', 'whole milk'}), confidence=0.2692307692307692, lift=3.086651583710407), OrderedStatistic(items_base=frozenset({'canned beer', 'curd'}), items_add=frozenset({'brown bread', 'whole milk'}), confidence=0.21875, lift=3.1348805147058822)]),\n",
       " RelationRecord(items=frozenset({'shopping bags', 'brown bread', 'curd', 'whole milk'}), support=0.00513083632632119, ordered_statistics=[OrderedStatistic(items_base=frozenset({'shopping bags', 'curd'}), items_add=frozenset({'brown bread', 'whole milk'}), confidence=0.21739130434782608, lift=3.1154092071611252)]),\n",
       " RelationRecord(items=frozenset({'frankfurter', 'root vegetables', 'rolls/buns', 'coffee'}), support=0.00513083632632119, ordered_statistics=[OrderedStatistic(items_base=frozenset({'rolls/buns', 'root vegetables', 'coffee'}), items_add=frozenset({'frankfurter'}), confidence=0.42553191489361697, lift=3.0946332168942514)]),\n",
       " RelationRecord(items=frozenset({'shopping bags', 'rolls/buns', 'brown bread', 'soda', 'whole milk'}), support=0.00538737814263725, ordered_statistics=[OrderedStatistic(items_base=frozenset({'brown bread', 'soda', 'whole milk'}), items_add=frozenset({'shopping bags', 'rolls/buns'}), confidence=0.21649484536082475, lift=3.148869056777966)]),\n",
       " RelationRecord(items=frozenset({'yogurt', 'shopping bags', 'rolls/buns', 'brown bread', 'whole milk'}), support=0.005900461775269369, ordered_statistics=[OrderedStatistic(items_base=frozenset({'rolls/buns', 'brown bread', 'yogurt'}), items_add=frozenset({'shopping bags', 'whole milk'}), confidence=0.338235294117647, lift=3.703486450760079), OrderedStatistic(items_base=frozenset({'yogurt', 'brown bread', 'whole milk'}), items_add=frozenset({'shopping bags', 'rolls/buns'}), confidence=0.2277227722772277, lift=3.3121767400620654), OrderedStatistic(items_base=frozenset({'shopping bags', 'rolls/buns', 'yogurt'}), items_add=frozenset({'brown bread', 'whole milk'}), confidence=0.23469387755102042, lift=3.363370348139256)]),\n",
       " RelationRecord(items=frozenset({'yogurt', 'pork', 'root vegetables', 'soda', 'whole milk'}), support=0.005900461775269369, ordered_statistics=[OrderedStatistic(items_base=frozenset({'root vegetables', 'pork', 'whole milk'}), items_add=frozenset({'yogurt', 'soda'}), confidence=0.2987012987012987, lift=3.0640464798359535), OrderedStatistic(items_base=frozenset({'yogurt', 'root vegetables', 'pork'}), items_add=frozenset({'soda', 'whole milk'}), confidence=0.47916666666666663, lift=3.1711233729485), OrderedStatistic(items_base=frozenset({'pork', 'soda', 'whole milk'}), items_add=frozenset({'yogurt', 'root vegetables'}), confidence=0.2277227722772277, lift=3.181589126654601), OrderedStatistic(items_base=frozenset({'yogurt', 'pork', 'whole milk'}), items_add=frozenset({'root vegetables', 'soda'}), confidence=0.25, lift=3.0741324921135647), OrderedStatistic(items_base=frozenset({'yogurt', 'root vegetables', 'soda'}), items_add=frozenset({'pork', 'whole milk'}), confidence=0.20535714285714285, lift=3.066981390257252)])]"
      ]
     },
     "execution_count": 9,
     "metadata": {},
     "output_type": "execute_result"
    }
   ],
   "source": [
    "import pandas as pd\n",
    "from apyori import apriori\n",
    "\n",
    "df = pd.read_csv('Groceries_dataset.csv')\n",
    "\n",
    "transactions = df.groupby('Member_number')['itemDescription'].apply(list).tolist()\n",
    "\n",
    "rules = apriori(transactions, min_support=0.005, min_confidence=0.2, min_lift=3, min_length=2)\n",
    "\n",
    "top_10_rules = list(rules)[:10]\n",
    "\n",
    "top_10_rules\n"
   ]
  },
  {
   "cell_type": "code",
   "execution_count": 5,
   "metadata": {},
   "outputs": [],
   "source": [
    "# grouped_df = df.groupby('Member_number')\n",
    "\n",
    "# for name, group in grouped_df:\n",
    "#     print(f\"Member_number: {name}\")\n",
    "#     print(group)\n",
    "#     print('\\n')"
   ]
  }
 ],
 "metadata": {
  "kernelspec": {
   "display_name": "base",
   "language": "python",
   "name": "python3"
  },
  "language_info": {
   "codemirror_mode": {
    "name": "ipython",
    "version": 3
   },
   "file_extension": ".py",
   "mimetype": "text/x-python",
   "name": "python",
   "nbconvert_exporter": "python",
   "pygments_lexer": "ipython3",
   "version": "3.11.5"
  }
 },
 "nbformat": 4,
 "nbformat_minor": 2
}
